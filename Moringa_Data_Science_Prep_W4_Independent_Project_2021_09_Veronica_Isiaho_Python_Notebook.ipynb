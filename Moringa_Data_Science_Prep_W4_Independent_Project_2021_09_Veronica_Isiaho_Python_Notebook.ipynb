{
  "nbformat": 4,
  "nbformat_minor": 0,
  "metadata": {
    "colab": {
      "name": "Moringa_Data_Science_Prep_W4_Independent_Project_2021_09_Veronica_Isiaho_Python_Notebook",
      "provenance": [],
      "collapsed_sections": [],
      "include_colab_link": true
    },
    "kernelspec": {
      "name": "python3",
      "display_name": "Python 3"
    }
  },
  "cells": [
    {
      "cell_type": "markdown",
      "metadata": {
        "id": "view-in-github",
        "colab_type": "text"
      },
      "source": [
        "<a href=\"https://colab.research.google.com/github/veronica1013/Moringa_Week4_Independent_Project/blob/main/Moringa_Data_Science_Prep_W4_Independent_Project_2021_09_Veronica_Isiaho_Python_Notebook.ipynb\" target=\"_parent\"><img src=\"https://colab.research.google.com/assets/colab-badge.svg\" alt=\"Open In Colab\"/></a>"
      ]
    },
    {
      "cell_type": "markdown",
      "metadata": {
        "id": "mh5V-mRF29qO"
      },
      "source": [
        "<font color=\"green\">*To start working on this notebook,I will import two libraries that I am going to use. These are the pandas and the numpy libraries.*</font>"
      ]
    },
    {
      "cell_type": "markdown",
      "metadata": {
        "id": "m0tgCkvzPLEa"
      },
      "source": [
        "# Python Data Analysis for an electric car-sharing service company"
      ]
    },
    {
      "cell_type": "markdown",
      "metadata": {
        "id": "VSnOCZ5-IPCi"
      },
      "source": [
        "## 1.0 Importing our Libraries"
      ]
    },
    {
      "cell_type": "code",
      "metadata": {
        "id": "3r-KDLvrO44a"
      },
      "source": [
        "# Importing the libraries we will need \n",
        "\n",
        "# Importing the pandas library\n",
        "# \n",
        "import pandas as pd\n",
        "\n",
        "# Importing the numpy library\n",
        "#\n",
        "import numpy as np"
      ],
      "execution_count": 1,
      "outputs": []
    },
    {
      "cell_type": "markdown",
      "metadata": {
        "id": "HToJZ2gBPawZ"
      },
      "source": [
        "## 1.1 Importing the Dataset \n",
        "\n"
      ]
    },
    {
      "cell_type": "markdown",
      "metadata": {
        "id": "LBUr8VUXQX-K"
      },
      "source": [
        "\n",
        "\n",
        "The dataset we will use contains data obtained by Dalberg Data Insights for a shared electric car service from April 1 to April 9, 2018 but the data was obtained from October 30, 16:59 PM to July 31, 2018, 23:59 PM.\n",
        "\n",
        "\n",
        "\n",
        "*   Dataset link for download or access: [http://bit.ly/autolib_dataset] and here respectively [link]https://drive.google.com/file/d/13DXF2CFWQLeYxxHFekng8HJnH_jtbfpN/view\n",
        "\n",
        "\n",
        "\n"
      ]
    },
    {
      "cell_type": "code",
      "metadata": {
        "id": "1acwmZanRNHs"
      },
      "source": [
        "# Let's read the data from the CSV file and create the dataframe to be used\n",
        "# \n",
        "df = pd.read_csv('/content/Autolib_dataset.csv')\n"
      ],
      "execution_count": 2,
      "outputs": []
    },
    {
      "cell_type": "code",
      "metadata": {
        "colab": {
          "base_uri": "https://localhost:8080/",
          "height": 669
        },
        "id": "ehsNpaLsdpj8",
        "outputId": "91674e2f-a94d-440d-9c36-066c4f3977b1"
      },
      "source": [
        "description = pd.read_excel('/content/Autolib_column_description.xlsx')\n",
        "description"
      ],
      "execution_count": 3,
      "outputs": [
        {
          "output_type": "execute_result",
          "data": {
            "text/html": [
              "<div>\n",
              "<style scoped>\n",
              "    .dataframe tbody tr th:only-of-type {\n",
              "        vertical-align: middle;\n",
              "    }\n",
              "\n",
              "    .dataframe tbody tr th {\n",
              "        vertical-align: top;\n",
              "    }\n",
              "\n",
              "    .dataframe thead th {\n",
              "        text-align: right;\n",
              "    }\n",
              "</style>\n",
              "<table border=\"1\" class=\"dataframe\">\n",
              "  <thead>\n",
              "    <tr style=\"text-align: right;\">\n",
              "      <th></th>\n",
              "      <th>Column name</th>\n",
              "      <th>Comments</th>\n",
              "    </tr>\n",
              "  </thead>\n",
              "  <tbody>\n",
              "    <tr>\n",
              "      <th>0</th>\n",
              "      <td>Address</td>\n",
              "      <td>address of the station</td>\n",
              "    </tr>\n",
              "    <tr>\n",
              "      <th>1</th>\n",
              "      <td>Cars</td>\n",
              "      <td>Number of cars available at the station - redu...</td>\n",
              "    </tr>\n",
              "    <tr>\n",
              "      <th>2</th>\n",
              "      <td>Bluecar counter</td>\n",
              "      <td>Number of Bluecars available at the station</td>\n",
              "    </tr>\n",
              "    <tr>\n",
              "      <th>3</th>\n",
              "      <td>Utilib counter</td>\n",
              "      <td>Number of Utilibs available at the station</td>\n",
              "    </tr>\n",
              "    <tr>\n",
              "      <th>4</th>\n",
              "      <td>Utilib 1.4 counter</td>\n",
              "      <td>Number of Utilib 1.4  available at the station</td>\n",
              "    </tr>\n",
              "    <tr>\n",
              "      <th>5</th>\n",
              "      <td>Charge Slots</td>\n",
              "      <td>Number of Charging slots available at the station</td>\n",
              "    </tr>\n",
              "    <tr>\n",
              "      <th>6</th>\n",
              "      <td>Charging Status</td>\n",
              "      <td>Whether the station is operational for recharg...</td>\n",
              "    </tr>\n",
              "    <tr>\n",
              "      <th>7</th>\n",
              "      <td>City</td>\n",
              "      <td>City</td>\n",
              "    </tr>\n",
              "    <tr>\n",
              "      <th>8</th>\n",
              "      <td>Displayed comment</td>\n",
              "      <td>Some comments like \"station within parking, ac...</td>\n",
              "    </tr>\n",
              "    <tr>\n",
              "      <th>9</th>\n",
              "      <td>ID</td>\n",
              "      <td>ID of the station</td>\n",
              "    </tr>\n",
              "    <tr>\n",
              "      <th>10</th>\n",
              "      <td>Kind</td>\n",
              "      <td>\"CENTER\" have no resources at all; \"PARKING\" d...</td>\n",
              "    </tr>\n",
              "    <tr>\n",
              "      <th>11</th>\n",
              "      <td>Geo point</td>\n",
              "      <td>GPS coordinates of the station</td>\n",
              "    </tr>\n",
              "    <tr>\n",
              "      <th>12</th>\n",
              "      <td>Postal code</td>\n",
              "      <td>Postal code of the station</td>\n",
              "    </tr>\n",
              "    <tr>\n",
              "      <th>13</th>\n",
              "      <td>Public name</td>\n",
              "      <td>Name of the station</td>\n",
              "    </tr>\n",
              "    <tr>\n",
              "      <th>14</th>\n",
              "      <td>Rental status</td>\n",
              "      <td>Whether the station is available for renting v...</td>\n",
              "    </tr>\n",
              "    <tr>\n",
              "      <th>15</th>\n",
              "      <td>Scheduled at</td>\n",
              "      <td>Planned opening date: non empty values only fo...</td>\n",
              "    </tr>\n",
              "    <tr>\n",
              "      <th>16</th>\n",
              "      <td>Slots</td>\n",
              "      <td>Number of parking slots available at the station?</td>\n",
              "    </tr>\n",
              "    <tr>\n",
              "      <th>17</th>\n",
              "      <td>Station type</td>\n",
              "      <td>No resources available for \"subs_center\" - whi...</td>\n",
              "    </tr>\n",
              "    <tr>\n",
              "      <th>18</th>\n",
              "      <td>Status</td>\n",
              "      <td>No resources available for \"scheduled\", which ...</td>\n",
              "    </tr>\n",
              "    <tr>\n",
              "      <th>19</th>\n",
              "      <td>Subscription status</td>\n",
              "      <td>Whether it is possible to subscribe to the aut...</td>\n",
              "    </tr>\n",
              "  </tbody>\n",
              "</table>\n",
              "</div>"
            ],
            "text/plain": [
              "            Column name                                           Comments\n",
              "0               Address                             address of the station\n",
              "1                  Cars  Number of cars available at the station - redu...\n",
              "2       Bluecar counter        Number of Bluecars available at the station\n",
              "3        Utilib counter         Number of Utilibs available at the station\n",
              "4    Utilib 1.4 counter     Number of Utilib 1.4  available at the station\n",
              "5          Charge Slots  Number of Charging slots available at the station\n",
              "6       Charging Status  Whether the station is operational for recharg...\n",
              "7                  City                                               City\n",
              "8     Displayed comment  Some comments like \"station within parking, ac...\n",
              "9                    ID                                  ID of the station\n",
              "10                 Kind  \"CENTER\" have no resources at all; \"PARKING\" d...\n",
              "11            Geo point                     GPS coordinates of the station\n",
              "12          Postal code                         Postal code of the station\n",
              "13          Public name                                Name of the station\n",
              "14        Rental status  Whether the station is available for renting v...\n",
              "15         Scheduled at  Planned opening date: non empty values only fo...\n",
              "16                Slots  Number of parking slots available at the station?\n",
              "17         Station type  No resources available for \"subs_center\" - whi...\n",
              "18               Status  No resources available for \"scheduled\", which ...\n",
              "19  Subscription status  Whether it is possible to subscribe to the aut..."
            ]
          },
          "metadata": {
            "tags": []
          },
          "execution_count": 3
        }
      ]
    },
    {
      "cell_type": "markdown",
      "metadata": {
        "id": "IICLGbvBRYHq"
      },
      "source": [
        "## 1.2 Previewing our Dataset\n"
      ]
    },
    {
      "cell_type": "code",
      "metadata": {
        "id": "WrwHg-hzR5BY",
        "colab": {
          "base_uri": "https://localhost:8080/",
          "height": 298
        },
        "outputId": "9c4c2228-6725-45e6-94cb-39223f012ccb"
      },
      "source": [
        "# Preview the first 5 rows of our data\n",
        "# \n",
        "df.head(3)"
      ],
      "execution_count": 4,
      "outputs": [
        {
          "output_type": "execute_result",
          "data": {
            "text/html": [
              "<div>\n",
              "<style scoped>\n",
              "    .dataframe tbody tr th:only-of-type {\n",
              "        vertical-align: middle;\n",
              "    }\n",
              "\n",
              "    .dataframe tbody tr th {\n",
              "        vertical-align: top;\n",
              "    }\n",
              "\n",
              "    .dataframe thead th {\n",
              "        text-align: right;\n",
              "    }\n",
              "</style>\n",
              "<table border=\"1\" class=\"dataframe\">\n",
              "  <thead>\n",
              "    <tr style=\"text-align: right;\">\n",
              "      <th></th>\n",
              "      <th>Address</th>\n",
              "      <th>Cars</th>\n",
              "      <th>Bluecar counter</th>\n",
              "      <th>Utilib counter</th>\n",
              "      <th>Utilib 1.4 counter</th>\n",
              "      <th>Charge Slots</th>\n",
              "      <th>Charging Status</th>\n",
              "      <th>City</th>\n",
              "      <th>Displayed comment</th>\n",
              "      <th>ID</th>\n",
              "      <th>Kind</th>\n",
              "      <th>Geo point</th>\n",
              "      <th>Postal code</th>\n",
              "      <th>Public name</th>\n",
              "      <th>Rental status</th>\n",
              "      <th>Scheduled at</th>\n",
              "      <th>Slots</th>\n",
              "      <th>Station type</th>\n",
              "      <th>Status</th>\n",
              "      <th>Subscription status</th>\n",
              "      <th>year</th>\n",
              "      <th>month</th>\n",
              "      <th>day</th>\n",
              "      <th>hour</th>\n",
              "      <th>minute</th>\n",
              "    </tr>\n",
              "  </thead>\n",
              "  <tbody>\n",
              "    <tr>\n",
              "      <th>0</th>\n",
              "      <td>2 Avenue de Suffren</td>\n",
              "      <td>0</td>\n",
              "      <td>0</td>\n",
              "      <td>0</td>\n",
              "      <td>0</td>\n",
              "      <td>0</td>\n",
              "      <td>nonexistent</td>\n",
              "      <td>Paris</td>\n",
              "      <td>NaN</td>\n",
              "      <td>paris-suffren-2</td>\n",
              "      <td>STATION</td>\n",
              "      <td>48.857, 2.2917</td>\n",
              "      <td>75015</td>\n",
              "      <td>Paris/Suffren/2</td>\n",
              "      <td>operational</td>\n",
              "      <td>NaN</td>\n",
              "      <td>2</td>\n",
              "      <td>station</td>\n",
              "      <td>ok</td>\n",
              "      <td>nonexistent</td>\n",
              "      <td>2018</td>\n",
              "      <td>4</td>\n",
              "      <td>8</td>\n",
              "      <td>11</td>\n",
              "      <td>43</td>\n",
              "    </tr>\n",
              "    <tr>\n",
              "      <th>1</th>\n",
              "      <td>145 Rue Raymond Losserand</td>\n",
              "      <td>6</td>\n",
              "      <td>6</td>\n",
              "      <td>0</td>\n",
              "      <td>0</td>\n",
              "      <td>0</td>\n",
              "      <td>operational</td>\n",
              "      <td>Paris</td>\n",
              "      <td>NaN</td>\n",
              "      <td>paris-raymondlosserand-145</td>\n",
              "      <td>STATION</td>\n",
              "      <td>48.83126, 2.313088</td>\n",
              "      <td>75014</td>\n",
              "      <td>Paris/Raymond Losserand/145</td>\n",
              "      <td>operational</td>\n",
              "      <td>NaN</td>\n",
              "      <td>0</td>\n",
              "      <td>station</td>\n",
              "      <td>ok</td>\n",
              "      <td>nonexistent</td>\n",
              "      <td>2018</td>\n",
              "      <td>4</td>\n",
              "      <td>6</td>\n",
              "      <td>7</td>\n",
              "      <td>24</td>\n",
              "    </tr>\n",
              "    <tr>\n",
              "      <th>2</th>\n",
              "      <td>2 Avenue John Fitzgerald Kennedy</td>\n",
              "      <td>3</td>\n",
              "      <td>3</td>\n",
              "      <td>0</td>\n",
              "      <td>2</td>\n",
              "      <td>0</td>\n",
              "      <td>operational</td>\n",
              "      <td>Le Bourget</td>\n",
              "      <td>NaN</td>\n",
              "      <td>lebourget-johnfitzgeraldkennedy-2</td>\n",
              "      <td>STATION</td>\n",
              "      <td>48.938103, 2.4286035</td>\n",
              "      <td>93350</td>\n",
              "      <td>Le Bourget/John Fitzgerald Kennedy/2</td>\n",
              "      <td>operational</td>\n",
              "      <td>NaN</td>\n",
              "      <td>1</td>\n",
              "      <td>station</td>\n",
              "      <td>ok</td>\n",
              "      <td>nonexistent</td>\n",
              "      <td>2018</td>\n",
              "      <td>4</td>\n",
              "      <td>3</td>\n",
              "      <td>20</td>\n",
              "      <td>14</td>\n",
              "    </tr>\n",
              "  </tbody>\n",
              "</table>\n",
              "</div>"
            ],
            "text/plain": [
              "                            Address  Cars  Bluecar counter  ...  day  hour  minute\n",
              "0               2 Avenue de Suffren     0                0  ...    8    11      43\n",
              "1         145 Rue Raymond Losserand     6                6  ...    6     7      24\n",
              "2  2 Avenue John Fitzgerald Kennedy     3                3  ...    3    20      14\n",
              "\n",
              "[3 rows x 25 columns]"
            ]
          },
          "metadata": {
            "tags": []
          },
          "execution_count": 4
        }
      ]
    },
    {
      "cell_type": "markdown",
      "metadata": {
        "id": "RAVzK5O6IR8v"
      },
      "source": [
        "## 1.3 Accessing Information about our Dataset"
      ]
    },
    {
      "cell_type": "markdown",
      "metadata": {
        "id": "5W7cyaIpJdaC"
      },
      "source": [
        "There's need to convert columns to the respective datatypes ie. if there are columns that need to be converveted from string to float. This observation can be made by accessing information about the dataset."
      ]
    },
    {
      "cell_type": "code",
      "metadata": {
        "id": "0d2kfemDIYWI",
        "colab": {
          "base_uri": "https://localhost:8080/"
        },
        "outputId": "1bd1aaca-4883-4563-ff76-f02d368ce0fd"
      },
      "source": [
        "# Know more about the dataset by accessing its information\n",
        "df.info()"
      ],
      "execution_count": 5,
      "outputs": [
        {
          "output_type": "stream",
          "text": [
            "<class 'pandas.core.frame.DataFrame'>\n",
            "RangeIndex: 5000 entries, 0 to 4999\n",
            "Data columns (total 25 columns):\n",
            " #   Column               Non-Null Count  Dtype \n",
            "---  ------               --------------  ----- \n",
            " 0   Address              5000 non-null   object\n",
            " 1   Cars                 5000 non-null   int64 \n",
            " 2   Bluecar counter      5000 non-null   int64 \n",
            " 3   Utilib counter       5000 non-null   int64 \n",
            " 4   Utilib 1.4 counter   5000 non-null   int64 \n",
            " 5   Charge Slots         5000 non-null   int64 \n",
            " 6   Charging Status      5000 non-null   object\n",
            " 7   City                 5000 non-null   object\n",
            " 8   Displayed comment    111 non-null    object\n",
            " 9   ID                   5000 non-null   object\n",
            " 10  Kind                 5000 non-null   object\n",
            " 11  Geo point            5000 non-null   object\n",
            " 12  Postal code          5000 non-null   int64 \n",
            " 13  Public name          5000 non-null   object\n",
            " 14  Rental status        5000 non-null   object\n",
            " 15  Scheduled at         47 non-null     object\n",
            " 16  Slots                5000 non-null   int64 \n",
            " 17  Station type         5000 non-null   object\n",
            " 18  Status               5000 non-null   object\n",
            " 19  Subscription status  5000 non-null   object\n",
            " 20  year                 5000 non-null   int64 \n",
            " 21  month                5000 non-null   int64 \n",
            " 22  day                  5000 non-null   int64 \n",
            " 23  hour                 5000 non-null   int64 \n",
            " 24  minute               5000 non-null   int64 \n",
            "dtypes: int64(12), object(13)\n",
            "memory usage: 976.7+ KB\n"
          ],
          "name": "stdout"
        }
      ]
    },
    {
      "cell_type": "markdown",
      "metadata": {
        "id": "R9S2o1WXIhq1"
      },
      "source": [
        "## 1.4 Cleaning our Dataset"
      ]
    },
    {
      "cell_type": "markdown",
      "metadata": {
        "id": "LgLPmaP60MCY"
      },
      "source": [
        "### 1.4.1 Validity"
      ]
    },
    {
      "cell_type": "code",
      "metadata": {
        "id": "Xu8_fwqE0S_1"
      },
      "source": [
        "# Data Cleaning Action: Change the columns with the wrong datatype to the right datatype\n",
        "# Explanation: Convert year, month, day, hour and minute columns from int64 to datetime64\n",
        "#ls = list(df.columns)\n",
        "#for column in ls[20:24]:\n",
        "#  df[column]=df[column].astype('datetime64[ns]')\n",
        "#df.info()\n"
      ],
      "execution_count": 6,
      "outputs": []
    },
    {
      "cell_type": "code",
      "metadata": {
        "id": "8n6lZYUT0X8O"
      },
      "source": [
        "# Data Cleaning Action: Merge the year, month and day into one column called Date\n",
        "# Explanation: This will enable ease of date confirmation. The year, month, day and minute columns will be drop because they are unnecessary\n",
        "\n",
        "df['Date'] = pd.to_datetime(df.year*10000+df.month*100+df.day,format='%Y%m%d')\n"
      ],
      "execution_count": 7,
      "outputs": []
    },
    {
      "cell_type": "code",
      "metadata": {
        "colab": {
          "base_uri": "https://localhost:8080/",
          "height": 298
        },
        "id": "jYHprzF05iBv",
        "outputId": "3d4ae904-07fb-4ce2-c0fa-03e558cc19f7"
      },
      "source": [
        "df.head(3)"
      ],
      "execution_count": 8,
      "outputs": [
        {
          "output_type": "execute_result",
          "data": {
            "text/html": [
              "<div>\n",
              "<style scoped>\n",
              "    .dataframe tbody tr th:only-of-type {\n",
              "        vertical-align: middle;\n",
              "    }\n",
              "\n",
              "    .dataframe tbody tr th {\n",
              "        vertical-align: top;\n",
              "    }\n",
              "\n",
              "    .dataframe thead th {\n",
              "        text-align: right;\n",
              "    }\n",
              "</style>\n",
              "<table border=\"1\" class=\"dataframe\">\n",
              "  <thead>\n",
              "    <tr style=\"text-align: right;\">\n",
              "      <th></th>\n",
              "      <th>Address</th>\n",
              "      <th>Cars</th>\n",
              "      <th>Bluecar counter</th>\n",
              "      <th>Utilib counter</th>\n",
              "      <th>Utilib 1.4 counter</th>\n",
              "      <th>Charge Slots</th>\n",
              "      <th>Charging Status</th>\n",
              "      <th>City</th>\n",
              "      <th>Displayed comment</th>\n",
              "      <th>ID</th>\n",
              "      <th>Kind</th>\n",
              "      <th>Geo point</th>\n",
              "      <th>Postal code</th>\n",
              "      <th>Public name</th>\n",
              "      <th>Rental status</th>\n",
              "      <th>Scheduled at</th>\n",
              "      <th>Slots</th>\n",
              "      <th>Station type</th>\n",
              "      <th>Status</th>\n",
              "      <th>Subscription status</th>\n",
              "      <th>year</th>\n",
              "      <th>month</th>\n",
              "      <th>day</th>\n",
              "      <th>hour</th>\n",
              "      <th>minute</th>\n",
              "      <th>Date</th>\n",
              "    </tr>\n",
              "  </thead>\n",
              "  <tbody>\n",
              "    <tr>\n",
              "      <th>0</th>\n",
              "      <td>2 Avenue de Suffren</td>\n",
              "      <td>0</td>\n",
              "      <td>0</td>\n",
              "      <td>0</td>\n",
              "      <td>0</td>\n",
              "      <td>0</td>\n",
              "      <td>nonexistent</td>\n",
              "      <td>Paris</td>\n",
              "      <td>NaN</td>\n",
              "      <td>paris-suffren-2</td>\n",
              "      <td>STATION</td>\n",
              "      <td>48.857, 2.2917</td>\n",
              "      <td>75015</td>\n",
              "      <td>Paris/Suffren/2</td>\n",
              "      <td>operational</td>\n",
              "      <td>NaN</td>\n",
              "      <td>2</td>\n",
              "      <td>station</td>\n",
              "      <td>ok</td>\n",
              "      <td>nonexistent</td>\n",
              "      <td>2018</td>\n",
              "      <td>4</td>\n",
              "      <td>8</td>\n",
              "      <td>11</td>\n",
              "      <td>43</td>\n",
              "      <td>2018-04-08</td>\n",
              "    </tr>\n",
              "    <tr>\n",
              "      <th>1</th>\n",
              "      <td>145 Rue Raymond Losserand</td>\n",
              "      <td>6</td>\n",
              "      <td>6</td>\n",
              "      <td>0</td>\n",
              "      <td>0</td>\n",
              "      <td>0</td>\n",
              "      <td>operational</td>\n",
              "      <td>Paris</td>\n",
              "      <td>NaN</td>\n",
              "      <td>paris-raymondlosserand-145</td>\n",
              "      <td>STATION</td>\n",
              "      <td>48.83126, 2.313088</td>\n",
              "      <td>75014</td>\n",
              "      <td>Paris/Raymond Losserand/145</td>\n",
              "      <td>operational</td>\n",
              "      <td>NaN</td>\n",
              "      <td>0</td>\n",
              "      <td>station</td>\n",
              "      <td>ok</td>\n",
              "      <td>nonexistent</td>\n",
              "      <td>2018</td>\n",
              "      <td>4</td>\n",
              "      <td>6</td>\n",
              "      <td>7</td>\n",
              "      <td>24</td>\n",
              "      <td>2018-04-06</td>\n",
              "    </tr>\n",
              "    <tr>\n",
              "      <th>2</th>\n",
              "      <td>2 Avenue John Fitzgerald Kennedy</td>\n",
              "      <td>3</td>\n",
              "      <td>3</td>\n",
              "      <td>0</td>\n",
              "      <td>2</td>\n",
              "      <td>0</td>\n",
              "      <td>operational</td>\n",
              "      <td>Le Bourget</td>\n",
              "      <td>NaN</td>\n",
              "      <td>lebourget-johnfitzgeraldkennedy-2</td>\n",
              "      <td>STATION</td>\n",
              "      <td>48.938103, 2.4286035</td>\n",
              "      <td>93350</td>\n",
              "      <td>Le Bourget/John Fitzgerald Kennedy/2</td>\n",
              "      <td>operational</td>\n",
              "      <td>NaN</td>\n",
              "      <td>1</td>\n",
              "      <td>station</td>\n",
              "      <td>ok</td>\n",
              "      <td>nonexistent</td>\n",
              "      <td>2018</td>\n",
              "      <td>4</td>\n",
              "      <td>3</td>\n",
              "      <td>20</td>\n",
              "      <td>14</td>\n",
              "      <td>2018-04-03</td>\n",
              "    </tr>\n",
              "  </tbody>\n",
              "</table>\n",
              "</div>"
            ],
            "text/plain": [
              "                            Address  Cars  ...  minute       Date\n",
              "0               2 Avenue de Suffren     0  ...      43 2018-04-08\n",
              "1         145 Rue Raymond Losserand     6  ...      24 2018-04-06\n",
              "2  2 Avenue John Fitzgerald Kennedy     3  ...      14 2018-04-03\n",
              "\n",
              "[3 rows x 26 columns]"
            ]
          },
          "metadata": {
            "tags": []
          },
          "execution_count": 8
        }
      ]
    },
    {
      "cell_type": "code",
      "metadata": {
        "id": "3Hegrubg0Zns",
        "colab": {
          "base_uri": "https://localhost:8080/",
          "height": 298
        },
        "outputId": "60ad7570-0896-486d-aaf2-6ccb77ac947a"
      },
      "source": [
        "# Data Cleaning Action: Drop the year, month and day column\n",
        "not_rqd_columns = ['year', 'month', 'day']\n",
        "df.drop(not_rqd_columns, inplace=True, axis=1)\n",
        "df.head(3)"
      ],
      "execution_count": 9,
      "outputs": [
        {
          "output_type": "execute_result",
          "data": {
            "text/html": [
              "<div>\n",
              "<style scoped>\n",
              "    .dataframe tbody tr th:only-of-type {\n",
              "        vertical-align: middle;\n",
              "    }\n",
              "\n",
              "    .dataframe tbody tr th {\n",
              "        vertical-align: top;\n",
              "    }\n",
              "\n",
              "    .dataframe thead th {\n",
              "        text-align: right;\n",
              "    }\n",
              "</style>\n",
              "<table border=\"1\" class=\"dataframe\">\n",
              "  <thead>\n",
              "    <tr style=\"text-align: right;\">\n",
              "      <th></th>\n",
              "      <th>Address</th>\n",
              "      <th>Cars</th>\n",
              "      <th>Bluecar counter</th>\n",
              "      <th>Utilib counter</th>\n",
              "      <th>Utilib 1.4 counter</th>\n",
              "      <th>Charge Slots</th>\n",
              "      <th>Charging Status</th>\n",
              "      <th>City</th>\n",
              "      <th>Displayed comment</th>\n",
              "      <th>ID</th>\n",
              "      <th>Kind</th>\n",
              "      <th>Geo point</th>\n",
              "      <th>Postal code</th>\n",
              "      <th>Public name</th>\n",
              "      <th>Rental status</th>\n",
              "      <th>Scheduled at</th>\n",
              "      <th>Slots</th>\n",
              "      <th>Station type</th>\n",
              "      <th>Status</th>\n",
              "      <th>Subscription status</th>\n",
              "      <th>hour</th>\n",
              "      <th>minute</th>\n",
              "      <th>Date</th>\n",
              "    </tr>\n",
              "  </thead>\n",
              "  <tbody>\n",
              "    <tr>\n",
              "      <th>0</th>\n",
              "      <td>2 Avenue de Suffren</td>\n",
              "      <td>0</td>\n",
              "      <td>0</td>\n",
              "      <td>0</td>\n",
              "      <td>0</td>\n",
              "      <td>0</td>\n",
              "      <td>nonexistent</td>\n",
              "      <td>Paris</td>\n",
              "      <td>NaN</td>\n",
              "      <td>paris-suffren-2</td>\n",
              "      <td>STATION</td>\n",
              "      <td>48.857, 2.2917</td>\n",
              "      <td>75015</td>\n",
              "      <td>Paris/Suffren/2</td>\n",
              "      <td>operational</td>\n",
              "      <td>NaN</td>\n",
              "      <td>2</td>\n",
              "      <td>station</td>\n",
              "      <td>ok</td>\n",
              "      <td>nonexistent</td>\n",
              "      <td>11</td>\n",
              "      <td>43</td>\n",
              "      <td>2018-04-08</td>\n",
              "    </tr>\n",
              "    <tr>\n",
              "      <th>1</th>\n",
              "      <td>145 Rue Raymond Losserand</td>\n",
              "      <td>6</td>\n",
              "      <td>6</td>\n",
              "      <td>0</td>\n",
              "      <td>0</td>\n",
              "      <td>0</td>\n",
              "      <td>operational</td>\n",
              "      <td>Paris</td>\n",
              "      <td>NaN</td>\n",
              "      <td>paris-raymondlosserand-145</td>\n",
              "      <td>STATION</td>\n",
              "      <td>48.83126, 2.313088</td>\n",
              "      <td>75014</td>\n",
              "      <td>Paris/Raymond Losserand/145</td>\n",
              "      <td>operational</td>\n",
              "      <td>NaN</td>\n",
              "      <td>0</td>\n",
              "      <td>station</td>\n",
              "      <td>ok</td>\n",
              "      <td>nonexistent</td>\n",
              "      <td>7</td>\n",
              "      <td>24</td>\n",
              "      <td>2018-04-06</td>\n",
              "    </tr>\n",
              "    <tr>\n",
              "      <th>2</th>\n",
              "      <td>2 Avenue John Fitzgerald Kennedy</td>\n",
              "      <td>3</td>\n",
              "      <td>3</td>\n",
              "      <td>0</td>\n",
              "      <td>2</td>\n",
              "      <td>0</td>\n",
              "      <td>operational</td>\n",
              "      <td>Le Bourget</td>\n",
              "      <td>NaN</td>\n",
              "      <td>lebourget-johnfitzgeraldkennedy-2</td>\n",
              "      <td>STATION</td>\n",
              "      <td>48.938103, 2.4286035</td>\n",
              "      <td>93350</td>\n",
              "      <td>Le Bourget/John Fitzgerald Kennedy/2</td>\n",
              "      <td>operational</td>\n",
              "      <td>NaN</td>\n",
              "      <td>1</td>\n",
              "      <td>station</td>\n",
              "      <td>ok</td>\n",
              "      <td>nonexistent</td>\n",
              "      <td>20</td>\n",
              "      <td>14</td>\n",
              "      <td>2018-04-03</td>\n",
              "    </tr>\n",
              "  </tbody>\n",
              "</table>\n",
              "</div>"
            ],
            "text/plain": [
              "                            Address  Cars  ...  minute       Date\n",
              "0               2 Avenue de Suffren     0  ...      43 2018-04-08\n",
              "1         145 Rue Raymond Losserand     6  ...      24 2018-04-06\n",
              "2  2 Avenue John Fitzgerald Kennedy     3  ...      14 2018-04-03\n",
              "\n",
              "[3 rows x 23 columns]"
            ]
          },
          "metadata": {
            "tags": []
          },
          "execution_count": 9
        }
      ]
    },
    {
      "cell_type": "markdown",
      "metadata": {
        "id": "ogvHnWWk0URF"
      },
      "source": [
        "### 1.4.2 Accuracy "
      ]
    },
    {
      "cell_type": "markdown",
      "metadata": {
        "id": "BGCUzEpYQN6l"
      },
      "source": [
        "#### 1.4.2.1 Check for null values or missing data"
      ]
    },
    {
      "cell_type": "code",
      "metadata": {
        "id": "fGR0p3580fCX",
        "colab": {
          "base_uri": "https://localhost:8080/"
        },
        "outputId": "464e9bd9-6e33-49fe-b82d-7eb24ec4ee47"
      },
      "source": [
        "# Data Cleaning Action: Check for null values or missing data\n",
        "# Explanation: This will help in knowing whether to replace with the mean of the specific column or delete that column/row\n",
        "#\n",
        "df.isnull().sum()"
      ],
      "execution_count": 10,
      "outputs": [
        {
          "output_type": "execute_result",
          "data": {
            "text/plain": [
              "Address                   0\n",
              "Cars                      0\n",
              "Bluecar counter           0\n",
              "Utilib counter            0\n",
              "Utilib 1.4 counter        0\n",
              "Charge Slots              0\n",
              "Charging Status           0\n",
              "City                      0\n",
              "Displayed comment      4889\n",
              "ID                        0\n",
              "Kind                      0\n",
              "Geo point                 0\n",
              "Postal code               0\n",
              "Public name               0\n",
              "Rental status             0\n",
              "Scheduled at           4953\n",
              "Slots                     0\n",
              "Station type              0\n",
              "Status                    0\n",
              "Subscription status       0\n",
              "hour                      0\n",
              "minute                    0\n",
              "Date                      0\n",
              "dtype: int64"
            ]
          },
          "metadata": {
            "tags": []
          },
          "execution_count": 10
        }
      ]
    },
    {
      "cell_type": "markdown",
      "metadata": {
        "id": "KJxI3_2-QYlZ"
      },
      "source": [
        "#### 1.4.2.2 Check for the total number of rows and columns"
      ]
    },
    {
      "cell_type": "code",
      "metadata": {
        "id": "dPvSUWLY0gNF",
        "colab": {
          "base_uri": "https://localhost:8080/"
        },
        "outputId": "71aa75c9-457b-41e6-937a-b12c3543fb55"
      },
      "source": [
        "# Data Cleaning Action: Checking the number of rows and columns in our data set\n",
        "# Explanation: This is to gauge the percentage of missing data in any row. \n",
        "#\n",
        "df.shape"
      ],
      "execution_count": 11,
      "outputs": [
        {
          "output_type": "execute_result",
          "data": {
            "text/plain": [
              "(5000, 23)"
            ]
          },
          "metadata": {
            "tags": []
          },
          "execution_count": 11
        }
      ]
    },
    {
      "cell_type": "markdown",
      "metadata": {
        "id": "uEXoWK7_QnYb"
      },
      "source": [
        "#### 1.4.2.3 Drop the columns with the missing values"
      ]
    },
    {
      "cell_type": "code",
      "metadata": {
        "id": "PrfhLS5mHyVN",
        "colab": {
          "base_uri": "https://localhost:8080/",
          "height": 298
        },
        "outputId": "4b98b03d-6934-490f-ae02-1af0ec18f186"
      },
      "source": [
        "# Data Cleaning Action: Drop the columns that have more than 70% of missing data.\n",
        "# Explanation: The high percentage of missing data will interefere with the analysis. \n",
        "# These columns (Displayed comment and Scheduled at) won't be needed in the analysis. They are irrelevant\n",
        "\n",
        "missing_data_columns = ['Displayed comment', 'Scheduled at']\n",
        "df.drop(missing_data_columns, inplace=True, axis=1)\n",
        "df.head(3)"
      ],
      "execution_count": 12,
      "outputs": [
        {
          "output_type": "execute_result",
          "data": {
            "text/html": [
              "<div>\n",
              "<style scoped>\n",
              "    .dataframe tbody tr th:only-of-type {\n",
              "        vertical-align: middle;\n",
              "    }\n",
              "\n",
              "    .dataframe tbody tr th {\n",
              "        vertical-align: top;\n",
              "    }\n",
              "\n",
              "    .dataframe thead th {\n",
              "        text-align: right;\n",
              "    }\n",
              "</style>\n",
              "<table border=\"1\" class=\"dataframe\">\n",
              "  <thead>\n",
              "    <tr style=\"text-align: right;\">\n",
              "      <th></th>\n",
              "      <th>Address</th>\n",
              "      <th>Cars</th>\n",
              "      <th>Bluecar counter</th>\n",
              "      <th>Utilib counter</th>\n",
              "      <th>Utilib 1.4 counter</th>\n",
              "      <th>Charge Slots</th>\n",
              "      <th>Charging Status</th>\n",
              "      <th>City</th>\n",
              "      <th>ID</th>\n",
              "      <th>Kind</th>\n",
              "      <th>Geo point</th>\n",
              "      <th>Postal code</th>\n",
              "      <th>Public name</th>\n",
              "      <th>Rental status</th>\n",
              "      <th>Slots</th>\n",
              "      <th>Station type</th>\n",
              "      <th>Status</th>\n",
              "      <th>Subscription status</th>\n",
              "      <th>hour</th>\n",
              "      <th>minute</th>\n",
              "      <th>Date</th>\n",
              "    </tr>\n",
              "  </thead>\n",
              "  <tbody>\n",
              "    <tr>\n",
              "      <th>0</th>\n",
              "      <td>2 Avenue de Suffren</td>\n",
              "      <td>0</td>\n",
              "      <td>0</td>\n",
              "      <td>0</td>\n",
              "      <td>0</td>\n",
              "      <td>0</td>\n",
              "      <td>nonexistent</td>\n",
              "      <td>Paris</td>\n",
              "      <td>paris-suffren-2</td>\n",
              "      <td>STATION</td>\n",
              "      <td>48.857, 2.2917</td>\n",
              "      <td>75015</td>\n",
              "      <td>Paris/Suffren/2</td>\n",
              "      <td>operational</td>\n",
              "      <td>2</td>\n",
              "      <td>station</td>\n",
              "      <td>ok</td>\n",
              "      <td>nonexistent</td>\n",
              "      <td>11</td>\n",
              "      <td>43</td>\n",
              "      <td>2018-04-08</td>\n",
              "    </tr>\n",
              "    <tr>\n",
              "      <th>1</th>\n",
              "      <td>145 Rue Raymond Losserand</td>\n",
              "      <td>6</td>\n",
              "      <td>6</td>\n",
              "      <td>0</td>\n",
              "      <td>0</td>\n",
              "      <td>0</td>\n",
              "      <td>operational</td>\n",
              "      <td>Paris</td>\n",
              "      <td>paris-raymondlosserand-145</td>\n",
              "      <td>STATION</td>\n",
              "      <td>48.83126, 2.313088</td>\n",
              "      <td>75014</td>\n",
              "      <td>Paris/Raymond Losserand/145</td>\n",
              "      <td>operational</td>\n",
              "      <td>0</td>\n",
              "      <td>station</td>\n",
              "      <td>ok</td>\n",
              "      <td>nonexistent</td>\n",
              "      <td>7</td>\n",
              "      <td>24</td>\n",
              "      <td>2018-04-06</td>\n",
              "    </tr>\n",
              "    <tr>\n",
              "      <th>2</th>\n",
              "      <td>2 Avenue John Fitzgerald Kennedy</td>\n",
              "      <td>3</td>\n",
              "      <td>3</td>\n",
              "      <td>0</td>\n",
              "      <td>2</td>\n",
              "      <td>0</td>\n",
              "      <td>operational</td>\n",
              "      <td>Le Bourget</td>\n",
              "      <td>lebourget-johnfitzgeraldkennedy-2</td>\n",
              "      <td>STATION</td>\n",
              "      <td>48.938103, 2.4286035</td>\n",
              "      <td>93350</td>\n",
              "      <td>Le Bourget/John Fitzgerald Kennedy/2</td>\n",
              "      <td>operational</td>\n",
              "      <td>1</td>\n",
              "      <td>station</td>\n",
              "      <td>ok</td>\n",
              "      <td>nonexistent</td>\n",
              "      <td>20</td>\n",
              "      <td>14</td>\n",
              "      <td>2018-04-03</td>\n",
              "    </tr>\n",
              "  </tbody>\n",
              "</table>\n",
              "</div>"
            ],
            "text/plain": [
              "                            Address  Cars  ...  minute       Date\n",
              "0               2 Avenue de Suffren     0  ...      43 2018-04-08\n",
              "1         145 Rue Raymond Losserand     6  ...      24 2018-04-06\n",
              "2  2 Avenue John Fitzgerald Kennedy     3  ...      14 2018-04-03\n",
              "\n",
              "[3 rows x 21 columns]"
            ]
          },
          "metadata": {
            "tags": []
          },
          "execution_count": 12
        }
      ]
    },
    {
      "cell_type": "markdown",
      "metadata": {
        "id": "pxQaXgzeQwLv"
      },
      "source": [
        "#### 1.4.2.4 Create a column of summation of total cars"
      ]
    },
    {
      "cell_type": "code",
      "metadata": {
        "colab": {
          "base_uri": "https://localhost:8080/",
          "height": 216
        },
        "id": "cYBKMOzCOKzJ",
        "outputId": "e8f9adb3-1dce-4726-d3a6-f922fd08e7fb"
      },
      "source": [
        "# Add a column for total cars in the data set\n",
        "\n",
        "sum_column = df[\"Bluecar counter\"] + df[\"Utilib counter\"] + df[\"Utilib 1.4 counter\"] \n",
        "df[\"Total Cars\"] = sum_column\n",
        "df.head(2)"
      ],
      "execution_count": 13,
      "outputs": [
        {
          "output_type": "execute_result",
          "data": {
            "text/html": [
              "<div>\n",
              "<style scoped>\n",
              "    .dataframe tbody tr th:only-of-type {\n",
              "        vertical-align: middle;\n",
              "    }\n",
              "\n",
              "    .dataframe tbody tr th {\n",
              "        vertical-align: top;\n",
              "    }\n",
              "\n",
              "    .dataframe thead th {\n",
              "        text-align: right;\n",
              "    }\n",
              "</style>\n",
              "<table border=\"1\" class=\"dataframe\">\n",
              "  <thead>\n",
              "    <tr style=\"text-align: right;\">\n",
              "      <th></th>\n",
              "      <th>Address</th>\n",
              "      <th>Cars</th>\n",
              "      <th>Bluecar counter</th>\n",
              "      <th>Utilib counter</th>\n",
              "      <th>Utilib 1.4 counter</th>\n",
              "      <th>Charge Slots</th>\n",
              "      <th>Charging Status</th>\n",
              "      <th>City</th>\n",
              "      <th>ID</th>\n",
              "      <th>Kind</th>\n",
              "      <th>Geo point</th>\n",
              "      <th>Postal code</th>\n",
              "      <th>Public name</th>\n",
              "      <th>Rental status</th>\n",
              "      <th>Slots</th>\n",
              "      <th>Station type</th>\n",
              "      <th>Status</th>\n",
              "      <th>Subscription status</th>\n",
              "      <th>hour</th>\n",
              "      <th>minute</th>\n",
              "      <th>Date</th>\n",
              "      <th>Total Cars</th>\n",
              "    </tr>\n",
              "  </thead>\n",
              "  <tbody>\n",
              "    <tr>\n",
              "      <th>0</th>\n",
              "      <td>2 Avenue de Suffren</td>\n",
              "      <td>0</td>\n",
              "      <td>0</td>\n",
              "      <td>0</td>\n",
              "      <td>0</td>\n",
              "      <td>0</td>\n",
              "      <td>nonexistent</td>\n",
              "      <td>Paris</td>\n",
              "      <td>paris-suffren-2</td>\n",
              "      <td>STATION</td>\n",
              "      <td>48.857, 2.2917</td>\n",
              "      <td>75015</td>\n",
              "      <td>Paris/Suffren/2</td>\n",
              "      <td>operational</td>\n",
              "      <td>2</td>\n",
              "      <td>station</td>\n",
              "      <td>ok</td>\n",
              "      <td>nonexistent</td>\n",
              "      <td>11</td>\n",
              "      <td>43</td>\n",
              "      <td>2018-04-08</td>\n",
              "      <td>0</td>\n",
              "    </tr>\n",
              "    <tr>\n",
              "      <th>1</th>\n",
              "      <td>145 Rue Raymond Losserand</td>\n",
              "      <td>6</td>\n",
              "      <td>6</td>\n",
              "      <td>0</td>\n",
              "      <td>0</td>\n",
              "      <td>0</td>\n",
              "      <td>operational</td>\n",
              "      <td>Paris</td>\n",
              "      <td>paris-raymondlosserand-145</td>\n",
              "      <td>STATION</td>\n",
              "      <td>48.83126, 2.313088</td>\n",
              "      <td>75014</td>\n",
              "      <td>Paris/Raymond Losserand/145</td>\n",
              "      <td>operational</td>\n",
              "      <td>0</td>\n",
              "      <td>station</td>\n",
              "      <td>ok</td>\n",
              "      <td>nonexistent</td>\n",
              "      <td>7</td>\n",
              "      <td>24</td>\n",
              "      <td>2018-04-06</td>\n",
              "      <td>6</td>\n",
              "    </tr>\n",
              "  </tbody>\n",
              "</table>\n",
              "</div>"
            ],
            "text/plain": [
              "                     Address  Cars  ...       Date  Total Cars\n",
              "0        2 Avenue de Suffren     0  ... 2018-04-08           0\n",
              "1  145 Rue Raymond Losserand     6  ... 2018-04-06           6\n",
              "\n",
              "[2 rows x 22 columns]"
            ]
          },
          "metadata": {
            "tags": []
          },
          "execution_count": 13
        }
      ]
    },
    {
      "cell_type": "markdown",
      "metadata": {
        "id": "KwvHxGJTTHtD"
      },
      "source": [
        "#### 1.4.2.5 Rename the Public name column to Station Name and remove the word counter on Bluecar counter,\tUtilib counter and\tUtilib 1.4 counter"
      ]
    },
    {
      "cell_type": "code",
      "metadata": {
        "id": "xwhkpTY6Svth",
        "colab": {
          "base_uri": "https://localhost:8080/",
          "height": 199
        },
        "outputId": "4d2cec6b-801f-4f6c-f04d-661212ae7002"
      },
      "source": [
        "df=df.rename(columns = {'Public name':'Station Name', 'Bluecar counter':'BlueCar',\t'Utilib counter':'Utilib', 'Utilib 1.4 counter': 'Utilib 1.4'})\n",
        "df.head(2)"
      ],
      "execution_count": 14,
      "outputs": [
        {
          "output_type": "execute_result",
          "data": {
            "text/html": [
              "<div>\n",
              "<style scoped>\n",
              "    .dataframe tbody tr th:only-of-type {\n",
              "        vertical-align: middle;\n",
              "    }\n",
              "\n",
              "    .dataframe tbody tr th {\n",
              "        vertical-align: top;\n",
              "    }\n",
              "\n",
              "    .dataframe thead th {\n",
              "        text-align: right;\n",
              "    }\n",
              "</style>\n",
              "<table border=\"1\" class=\"dataframe\">\n",
              "  <thead>\n",
              "    <tr style=\"text-align: right;\">\n",
              "      <th></th>\n",
              "      <th>Address</th>\n",
              "      <th>Cars</th>\n",
              "      <th>BlueCar</th>\n",
              "      <th>Utilib</th>\n",
              "      <th>Utilib 1.4</th>\n",
              "      <th>Charge Slots</th>\n",
              "      <th>Charging Status</th>\n",
              "      <th>City</th>\n",
              "      <th>ID</th>\n",
              "      <th>Kind</th>\n",
              "      <th>Geo point</th>\n",
              "      <th>Postal code</th>\n",
              "      <th>Station Name</th>\n",
              "      <th>Rental status</th>\n",
              "      <th>Slots</th>\n",
              "      <th>Station type</th>\n",
              "      <th>Status</th>\n",
              "      <th>Subscription status</th>\n",
              "      <th>hour</th>\n",
              "      <th>minute</th>\n",
              "      <th>Date</th>\n",
              "      <th>Total Cars</th>\n",
              "    </tr>\n",
              "  </thead>\n",
              "  <tbody>\n",
              "    <tr>\n",
              "      <th>0</th>\n",
              "      <td>2 Avenue de Suffren</td>\n",
              "      <td>0</td>\n",
              "      <td>0</td>\n",
              "      <td>0</td>\n",
              "      <td>0</td>\n",
              "      <td>0</td>\n",
              "      <td>nonexistent</td>\n",
              "      <td>Paris</td>\n",
              "      <td>paris-suffren-2</td>\n",
              "      <td>STATION</td>\n",
              "      <td>48.857, 2.2917</td>\n",
              "      <td>75015</td>\n",
              "      <td>Paris/Suffren/2</td>\n",
              "      <td>operational</td>\n",
              "      <td>2</td>\n",
              "      <td>station</td>\n",
              "      <td>ok</td>\n",
              "      <td>nonexistent</td>\n",
              "      <td>11</td>\n",
              "      <td>43</td>\n",
              "      <td>2018-04-08</td>\n",
              "      <td>0</td>\n",
              "    </tr>\n",
              "    <tr>\n",
              "      <th>1</th>\n",
              "      <td>145 Rue Raymond Losserand</td>\n",
              "      <td>6</td>\n",
              "      <td>6</td>\n",
              "      <td>0</td>\n",
              "      <td>0</td>\n",
              "      <td>0</td>\n",
              "      <td>operational</td>\n",
              "      <td>Paris</td>\n",
              "      <td>paris-raymondlosserand-145</td>\n",
              "      <td>STATION</td>\n",
              "      <td>48.83126, 2.313088</td>\n",
              "      <td>75014</td>\n",
              "      <td>Paris/Raymond Losserand/145</td>\n",
              "      <td>operational</td>\n",
              "      <td>0</td>\n",
              "      <td>station</td>\n",
              "      <td>ok</td>\n",
              "      <td>nonexistent</td>\n",
              "      <td>7</td>\n",
              "      <td>24</td>\n",
              "      <td>2018-04-06</td>\n",
              "      <td>6</td>\n",
              "    </tr>\n",
              "  </tbody>\n",
              "</table>\n",
              "</div>"
            ],
            "text/plain": [
              "                     Address  Cars  BlueCar  ...  minute       Date  Total Cars\n",
              "0        2 Avenue de Suffren     0        0  ...      43 2018-04-08           0\n",
              "1  145 Rue Raymond Losserand     6        6  ...      24 2018-04-06           6\n",
              "\n",
              "[2 rows x 22 columns]"
            ]
          },
          "metadata": {
            "tags": []
          },
          "execution_count": 14
        }
      ]
    },
    {
      "cell_type": "markdown",
      "metadata": {
        "id": "4_l-hjNT0ljY"
      },
      "source": [
        "### 1.4.3 Completeness "
      ]
    },
    {
      "cell_type": "code",
      "metadata": {
        "id": "r0QLHD0P0nN3",
        "colab": {
          "base_uri": "https://localhost:8080/"
        },
        "outputId": "853a2968-f304-43ea-a057-e9fcf45bf537"
      },
      "source": [
        "# Data Cleaning Action: Check the percentage of missing values in df dataset \n",
        "# Explanation: This will help in knowing the next course of action\n",
        "# i.e whether to replace the missing values with the mean of that column or drop them\n",
        "df.isna().sum().sum() / df.size * 100\n"
      ],
      "execution_count": 15,
      "outputs": [
        {
          "output_type": "execute_result",
          "data": {
            "text/plain": [
              "0.0"
            ]
          },
          "metadata": {
            "tags": []
          },
          "execution_count": 15
        }
      ]
    },
    {
      "cell_type": "markdown",
      "metadata": {
        "id": "Wg_HInjk0rJG"
      },
      "source": [
        "### 1.4.4 Consitency"
      ]
    },
    {
      "cell_type": "code",
      "metadata": {
        "id": "_xg4tFiZ0sTN",
        "colab": {
          "base_uri": "https://localhost:8080/"
        },
        "outputId": "1bb6ceb1-f2e8-4a2c-899a-f252bc7dbd4c"
      },
      "source": [
        "# Data Cleaning Action: Check if there are any Duplicates\n",
        "# Explanation: There were no duplicate instances\n",
        "\n",
        "df.duplicated(subset=None, keep='first')"
      ],
      "execution_count": 16,
      "outputs": [
        {
          "output_type": "execute_result",
          "data": {
            "text/plain": [
              "0       False\n",
              "1       False\n",
              "2       False\n",
              "3       False\n",
              "4       False\n",
              "        ...  \n",
              "4995    False\n",
              "4996    False\n",
              "4997    False\n",
              "4998    False\n",
              "4999    False\n",
              "Length: 5000, dtype: bool"
            ]
          },
          "metadata": {
            "tags": []
          },
          "execution_count": 16
        }
      ]
    },
    {
      "cell_type": "markdown",
      "metadata": {
        "id": "po-2IDPd0vdL"
      },
      "source": [
        "### 1.4.5 Uniformity"
      ]
    },
    {
      "cell_type": "code",
      "metadata": {
        "id": "oRw7Ow5-0wZM",
        "colab": {
          "base_uri": "https://localhost:8080/"
        },
        "outputId": "320ceafb-c12f-4243-da40-8edf9debe8e0"
      },
      "source": [
        "# Data Cleaning Action: To confirm if the data is uniform\n",
        "# Explanation:\n",
        "\n",
        "column_values = df[[\"City\"]].values\n",
        "unique_values =  np.unique(column_values)\n",
        "\n",
        "unique_values"
      ],
      "execution_count": 17,
      "outputs": [
        {
          "output_type": "execute_result",
          "data": {
            "text/plain": [
              "array(['Alfortville', 'Antony', 'Arcueil', 'Argenteuil',\n",
              "       'AsniÃ¨res-sur-Seine', 'Aubervilliers', 'Aulnay-sous-bois',\n",
              "       'Bagneux', 'Bagnolet', 'Bezons', 'BiÃ¨vres', 'Bois-Colombes',\n",
              "       'Boulogne-Billancourt', 'Bourg-la-Reine', 'Cachan',\n",
              "       'Champigny-sur-Marne', 'Charenton-le-Pont', 'Chaville',\n",
              "       'ChÃ¢tenay-Malabry', 'ChÃ¢tillon', 'Clamart', 'Clichy la garenne',\n",
              "       'Clichy-la-Garenne', 'Clichy-sous-Bois', 'Colombes', 'Courbevoie',\n",
              "       'CrÃ©teil', 'Drancy', 'Dugny', 'Enghien-les-Bains',\n",
              "       'Epinay-sur-Seine', 'Fontenay-Sous-Bois', 'Fontenay-aux-Roses',\n",
              "       'Garches', 'Gennevilliers', 'Guyancourt', 'Issy-les-Moulineaux',\n",
              "       'Joinville-le-Pont', 'La Garenne-Colombes', 'Le Blanc-Mesnil',\n",
              "       'Le Bourget', 'Le Chesnay', 'Le Plessis-Robinson',\n",
              "       'Le PrÃ©-Saint-Gervais', 'Les Lilas', 'Levallois-Perret',\n",
              "       'Limeil-BrÃ©vannes', 'Maisons-Alfort', 'Malakoff', 'Meudon',\n",
              "       'Meudon-la-ForÃªt', 'Montfermeil', 'Montreuil', 'Montrouge',\n",
              "       'Nanterre', 'Neuilly-Plaisance', 'Neuilly-sur-Seine',\n",
              "       'Nogent-sur-Marne', 'Noisy-le-Sec', 'Pantin', 'Paris', 'Puteaux',\n",
              "       'Romainville', 'Rosny-sous-Bois', 'Rueil-Malmaison', 'Rungis',\n",
              "       'Saclay', 'Saint-Cloud', 'Saint-Denis', 'Saint-MandÃ©',\n",
              "       'Saint-Maur', 'Saint-Maurice', 'Saint-Ouen', 'Sceaux',\n",
              "       'Sucy-en-Brie', 'Suresnes', 'SÃ¨vres', 'Vanves', 'Vaucresson',\n",
              "       'VerriÃ¨res-le-Buisson', 'Versailles', \"Ville-d'Avray\",\n",
              "       'Villejuif', 'Villeneuve-la-Garenne', 'Vincennes',\n",
              "       'VÃ©lizy-Villacoublay', 'Yerres', 'Ã\\x89pinay-sur-Seine'],\n",
              "      dtype=object)"
            ]
          },
          "metadata": {
            "tags": []
          },
          "execution_count": 17
        }
      ]
    },
    {
      "cell_type": "markdown",
      "metadata": {
        "id": "FkmrY1cwML1i"
      },
      "source": [
        "#### 1.4.5.1 To check whether the Station Name belongs to the specific Postal Codes"
      ]
    },
    {
      "cell_type": "code",
      "metadata": {
        "id": "IGE72W9pYLXs",
        "colab": {
          "base_uri": "https://localhost:8080/"
        },
        "outputId": "de568e92-0d89-4ebd-e0a0-cf2da305985f"
      },
      "source": [
        "grouped_df = df.groupby([\"Postal code\", \"Station Name\"]).size()\n",
        "grouped_df"
      ],
      "execution_count": 18,
      "outputs": [
        {
          "output_type": "execute_result",
          "data": {
            "text/plain": [
              "Postal code  Station Name                   \n",
              "75001        Paris/Amiral Coligny/2             3\n",
              "             Paris/Bertin PoirÃ©e/14            6\n",
              "             Paris/Colonel Driant/7             4\n",
              "             Paris/Croix des Petits Champs/4    6\n",
              "             Paris/Halles/3                     4\n",
              "                                               ..\n",
              "95870        Bezons/Edouard Vaillant/77         4\n",
              "             Bezons/Emile Zola/50               6\n",
              "             Bezons/Jean JaurÃ¨s/81             3\n",
              "95880        Enghien-les-Bains/ArrivÃ©e/19      6\n",
              "             Enghien-les-Bains/Coussaye/2       4\n",
              "Length: 1105, dtype: int64"
            ]
          },
          "metadata": {
            "tags": []
          },
          "execution_count": 18
        }
      ]
    },
    {
      "cell_type": "markdown",
      "metadata": {
        "id": "LUO73vmyc_Fq"
      },
      "source": [
        "#### 1.4.5.2 Check if the dates in the data set is within required date of April 1 to April 9, 2018."
      ]
    },
    {
      "cell_type": "code",
      "metadata": {
        "id": "COCX0PRDdirf",
        "colab": {
          "base_uri": "https://localhost:8080/"
        },
        "outputId": "a28a02d0-92d5-4992-f03b-96481ab8d152"
      },
      "source": [
        "# Use the greater than the start date and smaller than the end date\n",
        "#mask = (df['date'] > start_date) & (df['date'] <= end_date)\n",
        "\n",
        "mask = (df['Date'] > '2018-04-01') & (df['Date'] <= '2018-04-09')\n",
        "print(df.loc[mask])"
      ],
      "execution_count": 19,
      "outputs": [
        {
          "output_type": "stream",
          "text": [
            "                                 Address  Cars  ...       Date  Total Cars\n",
            "0                    2 Avenue de Suffren     0  ... 2018-04-08           0\n",
            "1              145 Rue Raymond Losserand     6  ... 2018-04-06           6\n",
            "2       2 Avenue John Fitzgerald Kennedy     3  ... 2018-04-03           5\n",
            "3                 51 Rue EugÃ¨ne OudinÃ©     3  ... 2018-04-04           4\n",
            "4     6 avenue de la Porte de Champerret     3  ... 2018-04-08           3\n",
            "...                                  ...   ...  ...        ...         ...\n",
            "4993          6 avenue Charles-de-Gaulle     6  ... 2018-04-02           6\n",
            "4995                 8 avenue MÃ©nelotte     2  ... 2018-04-06           2\n",
            "4996                   37 rue de Dantzig     4  ... 2018-04-04           4\n",
            "4998         2 avenue du Val de Fontenay     2  ... 2018-04-04           2\n",
            "4999                 5 Rue Henry Brisson     4  ... 2018-04-08           4\n",
            "\n",
            "[4416 rows x 22 columns]\n"
          ],
          "name": "stdout"
        }
      ]
    },
    {
      "cell_type": "code",
      "metadata": {
        "id": "DSmgYis8e-eu",
        "colab": {
          "base_uri": "https://localhost:8080/"
        },
        "outputId": "cb1bcd0b-4b90-4407-9b0f-1a2a91591e3c"
      },
      "source": [
        "df.shape"
      ],
      "execution_count": 20,
      "outputs": [
        {
          "output_type": "execute_result",
          "data": {
            "text/plain": [
              "(5000, 22)"
            ]
          },
          "metadata": {
            "tags": []
          },
          "execution_count": 20
        }
      ]
    },
    {
      "cell_type": "markdown",
      "metadata": {
        "id": "dr1eyGZzt83Z"
      },
      "source": [
        "### Exporting the Cleaned Dataset"
      ]
    },
    {
      "cell_type": "code",
      "metadata": {
        "id": "igd8ULk7t95C"
      },
      "source": [
        "# Export our dataframe into a csv file as shown \n",
        "\n",
        "df.to_csv(\"Autolib_Shared_Electric_Car_Service.csv\")"
      ],
      "execution_count": 21,
      "outputs": []
    },
    {
      "cell_type": "markdown",
      "metadata": {
        "id": "NicC8P9LMjvO"
      },
      "source": [
        "## 1.5 Answering Questions"
      ]
    },
    {
      "cell_type": "markdown",
      "metadata": {
        "id": "16e_VRrLEZy5"
      },
      "source": [
        "### 1.5.1 The most popular hour of the day for picking up a shared electric car (Bluecar) in the city of Paris over the month of April 2018."
      ]
    },
    {
      "cell_type": "code",
      "metadata": {
        "id": "tTOgnXvuMxcn",
        "colab": {
          "base_uri": "https://localhost:8080/"
        },
        "outputId": "b95ead21-7ffb-45b4-eb31-1c510fa9b27c"
      },
      "source": [
        "# Challenge 1\n",
        "# Identify the most popular hour of the day for picking up a shared electric car (Bluecar) in the city of Paris over the month of April 2018.\n",
        "\n",
        "Paris = df[(df['City']== 'Paris') & (df['Rental status'] == 'operational')]\n",
        "df.groupby('hour')['BlueCar'].value_counts().sort_values(ascending=False).head(1)"
      ],
      "execution_count": 35,
      "outputs": [
        {
          "output_type": "execute_result",
          "data": {
            "text/plain": [
              "hour  BlueCar\n",
              "14    0          76\n",
              "Name: BlueCar, dtype: int64"
            ]
          },
          "metadata": {
            "tags": []
          },
          "execution_count": 35
        }
      ]
    },
    {
      "cell_type": "markdown",
      "metadata": {
        "id": "PGZxWoqBEVl7"
      },
      "source": [
        "### 1.5.2 The most popular hour for returning cars"
      ]
    },
    {
      "cell_type": "code",
      "metadata": {
        "id": "BNegesaWNvQs",
        "colab": {
          "base_uri": "https://localhost:8080/"
        },
        "outputId": "8849a668-4ee5-43c1-d186-de93033624cb"
      },
      "source": [
        "# Challenge 2\n",
        "# What is the most popular hour for returning cars?\n",
        "\n",
        "df.groupby('hour')['Slots'].sum().sort_values(ascending=True).head(1) # At the 17th hour. This is the hour the available parking slots available are few"
      ],
      "execution_count": 23,
      "outputs": [
        {
          "output_type": "execute_result",
          "data": {
            "text/plain": [
              "hour\n",
              "17    349\n",
              "Name: Slots, dtype: int64"
            ]
          },
          "metadata": {
            "tags": []
          },
          "execution_count": 23
        }
      ]
    },
    {
      "cell_type": "markdown",
      "metadata": {
        "id": "1J5JQdkHFGvt"
      },
      "source": [
        "### 1.5.3 Overall most popular station "
      ]
    },
    {
      "cell_type": "code",
      "metadata": {
        "id": "7tilTerhNyiP",
        "colab": {
          "base_uri": "https://localhost:8080/"
        },
        "outputId": "7c6a6f16-a41f-435f-ed61-729c7612bad0"
      },
      "source": [
        "# Challenge 3\n",
        "# What is the overall most popular station\n",
        "\n",
        "df.groupby('Station Name')['Total Cars'].sum().sort_values(ascending=True).head(5)\n"
      ],
      "execution_count": 24,
      "outputs": [
        {
          "output_type": "execute_result",
          "data": {
            "text/plain": [
              "Station Name\n",
              "Alfortville/Blanqui/61        0\n",
              "Paris/Ecole de Medecine/21    0\n",
              "Paris/Etoile Foch/Parking     0\n",
              "Paris/Flandre/61              0\n",
              "Paris/FranÃ§ois 1er/38        0\n",
              "Name: Total Cars, dtype: int64"
            ]
          },
          "metadata": {
            "tags": []
          },
          "execution_count": 24
        }
      ]
    },
    {
      "cell_type": "markdown",
      "metadata": {
        "id": "W21GJ8CCFiBB"
      },
      "source": [
        "### 1.5.4 The station that is the most popular during the most popular picking hour"
      ]
    },
    {
      "cell_type": "code",
      "metadata": {
        "id": "rhXeHa6IOBsq",
        "colab": {
          "base_uri": "https://localhost:8080/"
        },
        "outputId": "1cb632a6-7256-410e-f8da-7348836cf7f2"
      },
      "source": [
        "# Challenge 4\n",
        "# The station that is the most popular during the most popular picking hour\n",
        "df.groupby('Station Name')['Total Cars'].sum().sort_values(ascending=False).head(3)\n",
        "\n",
        "#df.groupby('hour')['Slots'].sum().sort_values(ascending=True).head(3)\n",
        "df.groupby('hour')['Total Cars'].sum().sort_values(ascending=False).head(2)"
      ],
      "execution_count": 25,
      "outputs": [
        {
          "output_type": "execute_result",
          "data": {
            "text/plain": [
              "hour\n",
              "6    654\n",
              "5    603\n",
              "Name: Total Cars, dtype: int64"
            ]
          },
          "metadata": {
            "tags": []
          },
          "execution_count": 25
        }
      ]
    },
    {
      "cell_type": "markdown",
      "metadata": {
        "id": "fAqpkyBtF5RT"
      },
      "source": [
        "### 1.5.5 What postal code is the most popular for picking up Blue cars? Does the most popular station belong to that postal code? Overall?"
      ]
    },
    {
      "cell_type": "code",
      "metadata": {
        "id": "wddDP6yCOD_F"
      },
      "source": [
        "# Challenge 5\n",
        "# What postal code is the most popular for picking up Blue cars? Does the most popular station belong to that postal code? Overall?\n",
        "\n"
      ],
      "execution_count": 26,
      "outputs": []
    },
    {
      "cell_type": "markdown",
      "metadata": {
        "id": "blmKp6ILHFxi"
      },
      "source": [
        "### 1.5.6 Postal code that is the most popular for picking up Blue cars."
      ]
    },
    {
      "cell_type": "code",
      "metadata": {
        "id": "OemJ0HDYOHCq"
      },
      "source": [
        "# Challenge 6\n",
        "# Postal code that is the most popular for picking up Blue cars.\n"
      ],
      "execution_count": 27,
      "outputs": []
    },
    {
      "cell_type": "markdown",
      "metadata": {
        "id": "OpUzcgqhHoIo"
      },
      "source": [
        "### 1.5.7  Does the most popular station belong to that postal code in 1.5.6 above? At the most popular picking hour?"
      ]
    },
    {
      "cell_type": "code",
      "metadata": {
        "id": "CIxC5arSOLak"
      },
      "source": [
        "# Challenge 7\n",
        "# Does the most popular station belong to that postal code in 1.5.6 above? At the most popular picking hour?\n"
      ],
      "execution_count": 28,
      "outputs": []
    },
    {
      "cell_type": "markdown",
      "metadata": {
        "id": "zDE6cIjPH-Ye"
      },
      "source": [
        "### 1.5.8 Does the results change if you consider Utilib and Utilib 1.4 instead of Blue cars? "
      ]
    },
    {
      "cell_type": "code",
      "metadata": {
        "id": "gSjjnw56OP8O"
      },
      "source": [
        "# Challenge 8\n",
        "# Does the results change if you consider Utilib and Utilib 1.4 instead of Blue cars? \n"
      ],
      "execution_count": 29,
      "outputs": []
    },
    {
      "cell_type": "markdown",
      "metadata": {
        "id": "nuPwbLAKIYBl"
      },
      "source": [
        "## 1.6 Recommendation"
      ]
    },
    {
      "cell_type": "markdown",
      "metadata": {
        "id": "eo3UZRY-0AgZ"
      },
      "source": [
        "The outcome of the analysis was that the most popular hour of the day for picking up a shared electric car (Bluecar) in the city of Paris over the month of April 2018 was the 14th hour. This is because at that hour, there were no bluecars at the station. Meaning all the cars had been picked for use.\n",
        "\n",
        "I would recommend that the company should consider adding more cars during this hour to cater for the business need."
      ]
    }
  ]
}